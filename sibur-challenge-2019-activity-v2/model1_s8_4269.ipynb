{
 "cells": [
  {
   "cell_type": "markdown",
   "metadata": {},
   "source": [
    "#### model1_andrewpt_blend_S8_4269_time_290955_public_8_4269_private_8_42454_local_7_850758_lgb"
   ]
  },
  {
   "cell_type": "code",
   "execution_count": 1,
   "metadata": {},
   "outputs": [
    {
     "name": "stdout",
     "output_type": "stream",
     "text": [
      "train (463058, 60) test (103651, 56) activity_test_target (85891, 0)\n"
     ]
    }
   ],
   "source": [
    "#import utils\n",
    "import time\n",
    "import tqdm\n",
    "import numpy as np\n",
    "import pandas as pd\n",
    "import matplotlib.pyplot as plt\n",
    "import os,sys,inspect,pickle,json,time,datetime,re\n",
    "import random as rn\n",
    "import lightgbm as lgb\n",
    "%matplotlib inline\n",
    "#DATA_DIR = \"../input/activity-atactic/\"\n",
    "DATA_DIR = \"../input/sibur-csv/\"#\"../baseline/\"\n",
    "\n",
    "\n",
    "train_data = pd.read_csv(DATA_DIR + \"activity_train.csv.zip\", parse_dates=[\"date\"], index_col=\"date\", compression=\"zip\")\n",
    "test_data = pd.read_csv(DATA_DIR + \"activity_test.csv.zip\", parse_dates=[\"date\"], index_col=\"date\", compression=\"zip\")\n",
    "activity_test_target = pd.read_csv(DATA_DIR + \"activity_test_timestamps.csv\", index_col=\"date\", parse_dates=[\"date\"])\n",
    "print('train',train_data.shape, 'test',test_data.shape, 'activity_test_target',activity_test_target.shape)#, 'atactic_test_target',atactic_test_target.shape)\n",
    "\n"
   ]
  },
  {
   "cell_type": "code",
   "execution_count": 2,
   "metadata": {},
   "outputs": [
    {
     "name": "stdout",
     "output_type": "stream",
     "text": [
      "data (566709, 56)\n",
      "train_targets (463058, 4)\n"
     ]
    }
   ],
   "source": [
    "# prepare data for feature engineering\n",
    "data = pd.concat([train_data[test_data.columns], test_data]) ;print('data',data.shape) # use all columns except 4 targets\n",
    "train_targets = train_data[[\"activity\", \"atactic_1\", \"atactic_2\", \"atactic_3\"]].copy() ;print('train_targets',train_targets.shape)\n",
    "#series = train_targets[['activity']].notnull().all(axis=1) ;print(len(series[series==True]), 'rows without any null in whole row') # 300759 "
   ]
  },
  {
   "cell_type": "code",
   "execution_count": 3,
   "metadata": {},
   "outputs": [
    {
     "data": {
      "application/vnd.jupyter.widget-view+json": {
       "model_id": "7cf016d7284540728c035862e9db616f",
       "version_major": 2,
       "version_minor": 0
      },
      "text/plain": [
       "HBox(children=(IntProgress(value=0, max=3), HTML(value='')))"
      ]
     },
     "metadata": {},
     "output_type": "display_data"
    },
    {
     "name": "stdout",
     "output_type": "stream",
     "text": [
      "1H mean,1H median,1H std,1H max,1H min,3H mean,3H median,3H std,3H max,3H min,6H mean,6H median,6H std,6H max,6H min,\n",
      "all_features (566709, 825)\n"
     ]
    }
   ],
   "source": [
    "# generate 825 new cols from joineddata\n",
    "data.drop(\"f28\", axis=1, inplace=True)\n",
    "#ACOLS = [\"atactic_1\", \"atactic_2\", \"atactic_3\"]\n",
    "#not_null_atactic = train_targets.loc[train_targets[ACOLS].notnull().all(axis=1), ACOLS] ;print(not_null_atactic.shape)\n",
    "PERIODS = [\"1H\", \"3H\", \"6H\"]\n",
    "AGGREGATES = [\"mean\", \"median\", \"std\", \"max\", \"min\"]\n",
    "#PERIODS = [\"3H\"]\n",
    "#AGGREGATES = [\"mean\"]\n",
    "all_features = []\n",
    "for period in tqdm.tqdm_notebook(PERIODS):\n",
    "    for agg in AGGREGATES:\n",
    "        print(period,agg,end=',')\n",
    "        rolling_features = data.rolling(period).aggregate(agg)\n",
    "        rolling_features.rename(lambda x: \"_\".join([x, period, agg]), axis=1, inplace=True)\n",
    "        all_features.append(rolling_features)\n",
    "all_features = pd.concat(all_features, axis=1) \n",
    "print('all_features',all_features.shape) #825/5/3 = 55 #15 new cols for each of 55 features \n"
   ]
  },
  {
   "cell_type": "code",
   "execution_count": 4,
   "metadata": {},
   "outputs": [
    {
     "name": "stdout",
     "output_type": "stream",
     "text": [
      "full_data (566709, 880)\n",
      "activity_train_with_nulls (463058, 881)\n",
      "activity_train (300737, 881)\n",
      "test_activity_data (85891, 880)\n"
     ]
    }
   ],
   "source": [
    "# join all new features\n",
    "full_data = data.join(all_features) ;print('full_data',full_data.shape)  # (566709, 880)\n",
    "activity_train_with_nulls = train_targets[[\"activity\"]].join(full_data.shift(6, freq=\"H\")) ;print('activity_train_with_nulls',activity_train_with_nulls.shape) # add 6 hours empty rows to start, delete last 6 hours rows\n",
    "#series = activity_train_with_nulls.notnull().all(axis=1) ;print(len(series[series==True]), 'rows without any null in whole row') # 300759 \n",
    "activity_train = activity_train_with_nulls[activity_train_with_nulls.notnull().all(axis=1)] ;print('activity_train',activity_train.shape)\n",
    "#activity_test = full_data[full_data.index >= test_data.index[0]] ;print('activity_test',activity_test.shape)\n",
    "test_activity_data = activity_test_target.join(full_data.shift(6, freq=\"H\")).ffill() ; print('test_activity_data',test_activity_data.shape) # test_activity_data (85891, 880)"
   ]
  },
  {
   "cell_type": "code",
   "execution_count": 5,
   "metadata": {},
   "outputs": [
    {
     "name": "stdout",
     "output_type": "stream",
     "text": [
      "train_data (300737, 881) test_data (85891, 880) extra_data1 (85891, 0)\n"
     ]
    }
   ],
   "source": [
    "# rename data\n",
    "train_data = activity_train\n",
    "#test_data_useless = activity_test\n",
    "test_data = test_activity_data\n",
    "extra_data1 = activity_test_target\n",
    "print('train_data',train_data.shape, 'test_data',test_data.shape, 'extra_data1',extra_data1.shape)\n"
   ]
  },
  {
   "cell_type": "code",
   "execution_count": 6,
   "metadata": {},
   "outputs": [],
   "source": [
    "# config for models tuning\n",
    "config_lgb = \"\"\"{\n",
    "    \"models\":\"lgb\",\n",
    "    \"datasize\":\"max\",\n",
    "    \"data\":\"v02_add55x5x3roll\",\n",
    "    \"rs\":2734,\n",
    "    \"lgb\": {\n",
    "        \"_comment\":\"lambda_l2,lambda_l1,min_gain_to_split 30 5 8\",\n",
    "        \"name\":\"lgb\",\n",
    "        \"tune\":\"\",\n",
    "        \"rs\":2734,\n",
    "        \"metric\":\"mape\", \n",
    "        \"num_threads\": -1, \n",
    "        \"objective\": \"regression\", \n",
    "        \"verbosity\": 1,\n",
    "        \"rounds\":150,\n",
    "        \"verbose_eval\":100,\n",
    "        \"early_stopping_rounds\":20000,\n",
    "        \"lambda_l2\":30,\n",
    "        \"lambda_l1\":5,\n",
    "        \"min_gain_to_split\":8,\n",
    "        \"num_leaves\":31\n",
    "    }\n",
    "}\"\"\"\n",
    "conf = json.loads(config_lgb.replace(\"'\", \"\\\"\"))"
   ]
  },
  {
   "cell_type": "code",
   "execution_count": 7,
   "metadata": {},
   "outputs": [],
   "source": [
    "# lgb wrapper\n",
    "class TrainLGB():\n",
    "    model = None\n",
    "    conf = None\n",
    "    history_callback = None\n",
    "    def __init__(self, conf):\n",
    "        self.conf = conf\n",
    "        #print('lgb init done')\n",
    "        return\n",
    "    def compile(self, x_train_shape):\n",
    "        #print('lgb define done')\n",
    "        return\n",
    "    def fit(self, x_train, y_train, x_val, y_val):\n",
    "        lgb_train = lgb.Dataset(x_train, label=y_train.reshape(-1))\n",
    "        lgb_val = lgb.Dataset(x_val, label=y_val.reshape(-1))\n",
    "        evals_result = {}\n",
    "        c=self.conf\n",
    "        #params = {'metric':'mape', 'num_threads': -1, 'objective': 'regression', 'verbosity': 1} # rmse\n",
    "        params = {\n",
    "            'metric':c['metric'], \n",
    "            'num_threads':c['num_threads'], \n",
    "            'objective': c['objective'], \n",
    "            'verbosity': c['verbosity'], \n",
    "            'is_training_metric': True,\n",
    "            'lambda_l2':c['lambda_l2'],\n",
    "            'lambda_l1':c['lambda_l1'],\n",
    "            'min_gain_to_split':c['min_gain_to_split'],\n",
    "            'num_leaves':c['num_leaves'],\n",
    "        } # rmse\n",
    "        rounds = c['rounds']\n",
    "        # https://lightgbm.readthedocs.io/en/latest/pythonapi/lightgbm.train.html\n",
    "        self.model = lgb.train(\n",
    "            params = params, \n",
    "            #lgb_train, \n",
    "            train_set = lgb_train, \n",
    "            num_boost_round = rounds, \n",
    "            valid_sets = [lgb_train,lgb_val], \n",
    "            verbose_eval=c['verbose_eval'], \n",
    "            early_stopping_rounds=c['early_stopping_rounds'], \n",
    "            callbacks=[lgb.record_evaluation(evals_result)] #same -> evals_result=evals_result,\n",
    "            #callbacks=[lgb.print_evaluation(period=1, show_stdv=True)] #same -> evals_result=evals_result,\n",
    "        )\n",
    "        steps = self.model.best_iteration #print(f\"Best: {steps}\") #print('lgb fit done')\n",
    "        self.history_callback = evals_result\n",
    "        return\n",
    "    def predict(self, x):\n",
    "        #print('lgb predict done')\n",
    "        return self.model.predict(x)\n",
    "    def get_costs(self):\n",
    "        oy_train_list = self.history_callback['training']['mape']\n",
    "        oy_train_list = list(np.array(oy_train_list, dtype=np.float32))\n",
    "        oy_val_list = self.history_callback['valid_1']['mape']\n",
    "        oy_val_list = list(np.array(oy_val_list, dtype=np.float32))\n",
    "        #ox_list = [x for x in range(1,self.conf['rounds']+1)] # early stopping can cause error\n",
    "        ox_list = [x for x in range(1,len(oy_train_list)+1)]\n",
    "        title = self.conf['name'] + '_'\n",
    "        for t in self.conf['tune'].split(','): \n",
    "            if t!='': title += t+'_'+str(self.conf[t])+'_'\n",
    "        return {'ox_list':ox_list, 'oy_train_list':oy_train_list, 'oy_val_list':oy_val_list, 'title':title}\n"
   ]
  },
  {
   "cell_type": "code",
   "execution_count": 8,
   "metadata": {},
   "outputs": [
    {
     "name": "stdout",
     "output_type": "stream",
     "text": [
      "x_train (300737, 880) y_train (300737, 1) x_val (300737, 880) y_val (300737, 1) x_test (85891, 880)\n"
     ]
    }
   ],
   "source": [
    "TARGET = 'activity'\n",
    "rn.seed(conf['rs'])\n",
    "np.random.seed(conf['rs'])\n",
    "\n",
    "# split rows\n",
    "train = train_data\n",
    "val   = train_data\n",
    "test  = test_data\n",
    "\n",
    "# split cols to numpy and norm\n",
    "def split_cols_np(train, val, test, TARGET):\n",
    "    x_train = train.drop(TARGET, axis=1, inplace=False).values # faster if target first col: train.iloc[:, 1:].values\n",
    "    x_val   = val.drop(TARGET, axis=1, inplace=False).values   # val.iloc[:, 1:].values\n",
    "    x_test  = test.values\n",
    "    y_train = train[[TARGET]].values\n",
    "    y_val   = val[[TARGET]].values\n",
    "    return x_train, x_val, x_test, y_train, y_val\n",
    "x_train, x_val, x_test, y_train, y_val = split_cols_np(train, val, test, TARGET) ;print('x_train',x_train.shape, 'y_train',y_train.shape, 'x_val',x_val.shape, 'y_val',y_val.shape, 'x_test',x_test.shape)\n",
    "\n",
    "# normalize\n",
    "def normalize_by_train(x_train, x_val, x_test, y_train, y_val, train, TARGET):\n",
    "    #center, scale = train.iloc[:, 1:].mean().values, train.iloc[:, 1:].std().values\n",
    "    center_x, scale_x = train.drop(TARGET, axis=1, inplace=False).mean().values, train.drop(TARGET, axis=1, inplace=False).std().values\n",
    "    center_y, scale_y = train[TARGET].mean(), train[TARGET].std()\n",
    "    x_train_n = (x_train - center_x)/scale_x\n",
    "    x_val_n   = (x_val   - center_x)/scale_x\n",
    "    x_test_n  = (x_test  - center_x)/scale_x\n",
    "    y_train_n = (y_train - center_y)/scale_y\n",
    "    y_val_n   = (y_val   - center_y)/scale_y\n",
    "    #print('x_train_n',x_train_n.shape, 'y_train_n',y_train_n.shape, 'x_val_n',x_val_n.shape, 'y_val_n', y_val_n.shape)\n",
    "    return x_train_n, x_val_n, x_test_n, y_train_n, y_val_n\n",
    "x_train_n, x_val_n, x_test_n, y_train_n, y_val_n = normalize_by_train(x_train, x_val, x_test, y_train, y_val, train, TARGET) #;print('x_train_n',x_train_n.shape, 'y_train_n',y_train_n.shape, 'x_val_n',x_val_n.shape, 'y_val_n', y_val_n.shape)\n",
    "\n",
    "def denormalize_by_train(y_train_pred_n, y_val_pred_n, y_test_pred_n, train, TARGET):\n",
    "    y_train_pred = y_train_pred_n * train[TARGET].std() + train[TARGET].mean()\n",
    "    y_val_pred   = y_val_pred_n   * train[TARGET].std() + train[TARGET].mean() # cause center/scale made from train only\n",
    "    y_test_pred  = y_test_pred_n  * train[TARGET].std() + train[TARGET].mean() # cause center/scale made from train only\n",
    "    return y_train_pred, y_val_pred, y_test_pred\n",
    "\n",
    "def evaluate(y_train_pred_n, y_val_pred_n, y_test_pred_n, conf_i, submit=False):\n",
    "    # denormalize\n",
    "    y_train_pred, y_val_pred, y_test_pred = denormalize_by_train(y_train_pred_n, y_val_pred_n, y_test_pred_n, train, TARGET)\n",
    "\n",
    "    # convert to pandas\n",
    "    y_train_pred_p = pd.Series(y_train_pred.flatten(), index=train.index, name=TARGET+\"_pred\").sort_index()\n",
    "    y_val_pred_p   = pd.Series(y_val_pred.flatten(),   index=val.index,   name=TARGET+\"_pred\").sort_index()\n",
    "    y_test_pred_p  = pd.DataFrame(y_test_pred, columns=[TARGET], index=extra_data1.index) # activity_test_target\n",
    "\n",
    "    # evaluate\n",
    "    def mape(y_true, y_pred): return 100 * np.mean(np.abs((y_pred-y_true)/y_true))\n",
    "    conf_i['score_train']= mape(train[TARGET].values, y_train_pred_p.values)\n",
    "    conf_i['score_val']  = mape(val[TARGET].values,   y_val_pred_p.values)\n",
    "\n",
    "    # submit\n",
    "    curr_time = re.sub(r'^(.*)-(.*)-(.*) (.*):(.*):(.*)\\.(.*)$',r'y\\1_\\2m_\\3d_\\4h_\\5min_\\6s_\\7_',str(datetime.datetime.now()))\n",
    "    #if submit: y_test_pred_p.loc[test.index].to_csv(os.path.join('output',curr_time+mtype+'_sub.csv'))\n",
    "    #if submit: y_test_pred_p.loc[test.index].to_csv(curr_time+mtype+'_sub.csv')\n",
    "    if submit: y_test_pred_p.loc[test.index].to_csv('submit_model1.csv')\n",
    "\n",
    "    # add log to log_model.csv file\n",
    "    log_file = 'log\\\\log_model1_'+mtype+'.csv'\n",
    "    log_df = pd.DataFrame([conf_i], index=[curr_time])\n",
    "    if log_file in os.listdir(): log_df = pd.read_csv(log_file, index_col=0).append(log_df)   \n",
    "    log_df.to_csv(log_file)\n",
    "\n",
    "    #if log_file in os.listdir('output'): log_df = pd.read_csv(os.path.join('output', log_file), index_col=0).append(log_df)   \n",
    "    #log_df.to_csv(os.path.join('output', log_file))\n",
    "    # add log to separate file\n",
    "    #pd.DataFrame([conf_i], index=[curr_time]).to_csv(os.path.join('output',curr_time+mtype+'_log.csv'))\n",
    "    return\n"
   ]
  },
  {
   "cell_type": "code",
   "execution_count": 9,
   "metadata": {},
   "outputs": [
    {
     "name": "stdout",
     "output_type": "stream",
     "text": [
      "Training until validation scores don't improve for 20000 rounds\n",
      "[100]\ttraining's mape: 0.370759\tvalid_1's mape: 0.370759\n",
      "Did not meet early stopping. Best iteration is:\n",
      "[110]\ttraining's mape: 0.370049\tvalid_1's mape: 0.370049\n"
     ]
    }
   ],
   "source": [
    "def split_model_config(conf_mtype): # in: model params with lists, out: list of params-combination\n",
    "    if conf_mtype['tune']=='': return [conf_mtype]\n",
    "    import itertools; model_configs = []; list_of_lists = []\n",
    "    def tunelists_to_floats(conf_mtype, comb):\n",
    "        conf_i = conf_mtype.copy()\n",
    "        for i,t in enumerate(conf_mtype['tune'].split(',')): conf_i[t] = comb[i]\n",
    "        return conf_i\n",
    "    # 1 build list of lists\n",
    "    for t in conf_mtype['tune'].split(','): list_of_lists.append(conf_mtype[t])\n",
    "    # 2 get all combinations of a list of lists\n",
    "    combs = list(itertools.product(*list_of_lists)) # [(2734, 10), (2734, 20), (2734, 30), (1, 10), (1, 20), (1, 30), (2, 10), (2, 20), (2, 30)]\n",
    "    # 3 fill separate model_config from each combination \n",
    "    for comb in combs:model_configs.append(tunelists_to_floats(conf_mtype, comb))\n",
    "    return model_configs\n",
    "    #print(split_model_config(conf['lgb']))\n",
    "\n",
    "for mtype in conf['models'].split(','):\n",
    "    for conf_i in split_model_config(conf[mtype]):\n",
    "        if mtype=='lgb':\n",
    "            #from train_lgb import TrainLGB\n",
    "            model = TrainLGB(conf_i)\n",
    "        model.compile(x_train.shape)\n",
    "        model.fit(x_train_n, y_train_n, x_val_n, y_val_n)\n",
    "        y_train_pred_n = model.predict(x_train_n) \n",
    "        y_val_pred_n   = model.predict(x_val_n) \n",
    "        y_test_pred_n  = model.predict(x_test_n) \n",
    "        conf_i['history'] = model.get_costs() #model.history_callback\n",
    "        conf_i['datasize'] = conf['datasize']\n",
    "        conf_i['data'] = conf['data']\n",
    "        conf_i['rs_global'] = conf['rs']\n",
    "        evaluate(y_train_pred_n, y_val_pred_n, y_test_pred_n, conf_i, submit=True)\n",
    "        #plot_costs(*model.get_costs())\n"
   ]
  },
  {
   "cell_type": "code",
   "execution_count": 10,
   "metadata": {},
   "outputs": [
    {
     "data": {
      "text/html": [
       "<div>\n",
       "<style scoped>\n",
       "    .dataframe tbody tr th:only-of-type {\n",
       "        vertical-align: middle;\n",
       "    }\n",
       "\n",
       "    .dataframe tbody tr th {\n",
       "        vertical-align: top;\n",
       "    }\n",
       "\n",
       "    .dataframe thead th {\n",
       "        text-align: right;\n",
       "    }\n",
       "</style>\n",
       "<table border=\"1\" class=\"dataframe\">\n",
       "  <thead>\n",
       "    <tr style=\"text-align: right;\">\n",
       "      <th></th>\n",
       "      <th>score_train</th>\n",
       "      <th>score_val</th>\n",
       "      <th>lambda_l2</th>\n",
       "      <th>lambda_l1</th>\n",
       "      <th>min_gain_to_split</th>\n",
       "    </tr>\n",
       "  </thead>\n",
       "  <tbody>\n",
       "    <tr>\n",
       "      <th>y2019_11m_19d_12h_31min_04s_614883_</th>\n",
       "      <td>7.850758</td>\n",
       "      <td>7.850758</td>\n",
       "      <td>30</td>\n",
       "      <td>5</td>\n",
       "      <td>8</td>\n",
       "    </tr>\n",
       "  </tbody>\n",
       "</table>\n",
       "</div>"
      ],
      "text/plain": [
       "                                     score_train  score_val  lambda_l2  \\\n",
       "y2019_11m_19d_12h_31min_04s_614883_     7.850758   7.850758         30   \n",
       "\n",
       "                                     lambda_l1  min_gain_to_split  \n",
       "y2019_11m_19d_12h_31min_04s_614883_          5                  8  "
      ]
     },
     "execution_count": 10,
     "metadata": {},
     "output_type": "execute_result"
    }
   ],
   "source": [
    "mtype = conf['models'].split(',')[0]\n",
    "#pd.read_csv('output/log_'+mtype+'.csv', index_col=0)[['score_train','score_val','lambda_l2','lambda_l1','min_gain_to_split']].sort_values(by=['score_val'])\n",
    "pd.read_csv('log\\\\log_model1_'+mtype+'.csv', index_col=0)[['score_train','score_val','lambda_l2','lambda_l1','min_gain_to_split']]\n"
   ]
  },
  {
   "cell_type": "code",
   "execution_count": 11,
   "metadata": {},
   "outputs": [
    {
     "data": {
      "text/plain": [
       "Text(0.5, 1, 'Activity')"
      ]
     },
     "execution_count": 11,
     "metadata": {},
     "output_type": "execute_result"
    },
    {
     "data": {
      "image/png": "[encoded data removed]",
      "text/plain": [
       "<Figure size 432x288 with 1 Axes>"
      ]
     },
     "metadata": {
      "needs_background": "light"
     },
     "output_type": "display_data"
    }
   ],
   "source": [
    "y_train_pred, y_val_pred, y_test_pred = denormalize_by_train(y_train_pred_n, y_val_pred_n, y_test_pred_n, train, TARGET)\n",
    "y_train_pred_p = pd.Series(y_train_pred.flatten(), index=train.index, name=TARGET+\"_pred\").sort_index()\n",
    "\n",
    "train[\"activity\"].plot(c=\"steelblue\")\n",
    "y_train_pred_p.plot(c=\"forestgreen\")\n",
    "plt.legend(loc=0)\n",
    "plt.tight_layout()\n",
    "plt.title(\"Activity\", fontsize=12)"
   ]
  },
  {
   "cell_type": "code",
   "execution_count": null,
   "metadata": {},
   "outputs": [],
   "source": []
  },
  {
   "cell_type": "code",
   "execution_count": null,
   "metadata": {},
   "outputs": [],
   "source": []
  }
 ],
 "metadata": {
  "kernelspec": {
   "display_name": "Python 3",
   "language": "python",
   "name": "python3"
  },
  "language_info": {
   "codemirror_mode": {
    "name": "ipython",
    "version": 3
   },
   "file_extension": ".py",
   "mimetype": "text/x-python",
   "name": "python",
   "nbconvert_exporter": "python",
   "pygments_lexer": "ipython3",
   "version": "3.7.3"
  }
 },
 "nbformat": 4,
 "nbformat_minor": 2
}
